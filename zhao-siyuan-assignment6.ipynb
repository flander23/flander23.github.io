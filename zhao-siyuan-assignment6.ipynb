{
 "cells": [
  {
   "cell_type": "code",
   "execution_count": 1,
   "metadata": {},
   "outputs": [],
   "source": [
    "import numpy as np\n",
    "import pandas as pd\n",
    "import ipywidgets\n",
    "import bqplot"
   ]
  },
  {
   "cell_type": "markdown",
   "metadata": {},
   "source": [
    "### Data Pre-processing"
   ]
  },
  {
   "cell_type": "code",
   "execution_count": 24,
   "metadata": {},
   "outputs": [
    {
     "data": {
      "text/html": [
       "<div>\n",
       "<style scoped>\n",
       "    .dataframe tbody tr th:only-of-type {\n",
       "        vertical-align: middle;\n",
       "    }\n",
       "\n",
       "    .dataframe tbody tr th {\n",
       "        vertical-align: top;\n",
       "    }\n",
       "\n",
       "    .dataframe thead th {\n",
       "        text-align: right;\n",
       "    }\n",
       "</style>\n",
       "<table border=\"1\" class=\"dataframe\">\n",
       "  <thead>\n",
       "    <tr style=\"text-align: right;\">\n",
       "      <th></th>\n",
       "      <th>Agency Name</th>\n",
       "      <th>Location Name</th>\n",
       "      <th>Address</th>\n",
       "      <th>City</th>\n",
       "      <th>Zip code</th>\n",
       "      <th>County</th>\n",
       "      <th>Congress Dist</th>\n",
       "      <th>Congressional Full Name</th>\n",
       "      <th>Rep Dist</th>\n",
       "      <th>Rep Full Name</th>\n",
       "      <th>...</th>\n",
       "      <th>Bldg Status</th>\n",
       "      <th>Year Acquired</th>\n",
       "      <th>Year Constructed</th>\n",
       "      <th>Square Footage</th>\n",
       "      <th>Total Floors</th>\n",
       "      <th>Floors Above Grade</th>\n",
       "      <th>Floors Below Grade</th>\n",
       "      <th>Usage Description</th>\n",
       "      <th>Usage Description 2</th>\n",
       "      <th>Usage Description 3</th>\n",
       "    </tr>\n",
       "  </thead>\n",
       "  <tbody>\n",
       "    <tr>\n",
       "      <th>0</th>\n",
       "      <td>Department of Natural Resources</td>\n",
       "      <td>Anderson Lake Conservation Area - Fulton County</td>\n",
       "      <td>Anderson Lake C.a.</td>\n",
       "      <td>Astoria</td>\n",
       "      <td>61501</td>\n",
       "      <td>Fulton</td>\n",
       "      <td>17</td>\n",
       "      <td>Cheri Bustos</td>\n",
       "      <td>93</td>\n",
       "      <td>Hammond Norine K.</td>\n",
       "      <td>...</td>\n",
       "      <td>In Use</td>\n",
       "      <td>1975</td>\n",
       "      <td>1975</td>\n",
       "      <td>144</td>\n",
       "      <td>1</td>\n",
       "      <td>1</td>\n",
       "      <td>0</td>\n",
       "      <td>Unusual</td>\n",
       "      <td>Unusual</td>\n",
       "      <td>Not provided</td>\n",
       "    </tr>\n",
       "    <tr>\n",
       "      <th>1</th>\n",
       "      <td>Department of Natural Resources</td>\n",
       "      <td>Anderson Lake Conservation Area - Fulton County</td>\n",
       "      <td>Anderson Lake C.a.</td>\n",
       "      <td>Astoria</td>\n",
       "      <td>61501</td>\n",
       "      <td>Fulton</td>\n",
       "      <td>17</td>\n",
       "      <td>Cheri Bustos</td>\n",
       "      <td>93</td>\n",
       "      <td>Hammond Norine K.</td>\n",
       "      <td>...</td>\n",
       "      <td>In Use</td>\n",
       "      <td>2004</td>\n",
       "      <td>2004</td>\n",
       "      <td>144</td>\n",
       "      <td>1</td>\n",
       "      <td>1</td>\n",
       "      <td>0</td>\n",
       "      <td>Unusual</td>\n",
       "      <td>Unusual</td>\n",
       "      <td>Not provided</td>\n",
       "    </tr>\n",
       "    <tr>\n",
       "      <th>2</th>\n",
       "      <td>Department of Natural Resources</td>\n",
       "      <td>Anderson Lake Conservation Area - Fulton County</td>\n",
       "      <td>Anderson Lake C.a.</td>\n",
       "      <td>Astoria</td>\n",
       "      <td>61501</td>\n",
       "      <td>Fulton</td>\n",
       "      <td>17</td>\n",
       "      <td>Cheri Bustos</td>\n",
       "      <td>93</td>\n",
       "      <td>Hammond Norine K.</td>\n",
       "      <td>...</td>\n",
       "      <td>In Use</td>\n",
       "      <td>2004</td>\n",
       "      <td>2004</td>\n",
       "      <td>144</td>\n",
       "      <td>1</td>\n",
       "      <td>1</td>\n",
       "      <td>0</td>\n",
       "      <td>Unusual</td>\n",
       "      <td>Unusual</td>\n",
       "      <td>Not provided</td>\n",
       "    </tr>\n",
       "    <tr>\n",
       "      <th>3</th>\n",
       "      <td>Department of Natural Resources</td>\n",
       "      <td>Anderson Lake Conservation Area - Fulton County</td>\n",
       "      <td>Anderson Lake C.a.</td>\n",
       "      <td>Astoria</td>\n",
       "      <td>61501</td>\n",
       "      <td>Fulton</td>\n",
       "      <td>17</td>\n",
       "      <td>Cheri Bustos</td>\n",
       "      <td>93</td>\n",
       "      <td>Hammond Norine K.</td>\n",
       "      <td>...</td>\n",
       "      <td>In Use</td>\n",
       "      <td>2004</td>\n",
       "      <td>2004</td>\n",
       "      <td>144</td>\n",
       "      <td>1</td>\n",
       "      <td>1</td>\n",
       "      <td>0</td>\n",
       "      <td>Unusual</td>\n",
       "      <td>Unusual</td>\n",
       "      <td>Not provided</td>\n",
       "    </tr>\n",
       "    <tr>\n",
       "      <th>4</th>\n",
       "      <td>Department of Natural Resources</td>\n",
       "      <td>Anderson Lake Conservation Area - Fulton County</td>\n",
       "      <td>Anderson Lake C.a.</td>\n",
       "      <td>Astoria</td>\n",
       "      <td>61501</td>\n",
       "      <td>Fulton</td>\n",
       "      <td>17</td>\n",
       "      <td>Cheri Bustos</td>\n",
       "      <td>93</td>\n",
       "      <td>Hammond Norine K.</td>\n",
       "      <td>...</td>\n",
       "      <td>In Use</td>\n",
       "      <td>2004</td>\n",
       "      <td>2004</td>\n",
       "      <td>144</td>\n",
       "      <td>1</td>\n",
       "      <td>1</td>\n",
       "      <td>0</td>\n",
       "      <td>Unusual</td>\n",
       "      <td>Unusual</td>\n",
       "      <td>Not provided</td>\n",
       "    </tr>\n",
       "  </tbody>\n",
       "</table>\n",
       "<p>5 rows × 22 columns</p>\n",
       "</div>"
      ],
      "text/plain": [
       "                       Agency Name  \\\n",
       "0  Department of Natural Resources   \n",
       "1  Department of Natural Resources   \n",
       "2  Department of Natural Resources   \n",
       "3  Department of Natural Resources   \n",
       "4  Department of Natural Resources   \n",
       "\n",
       "                                     Location Name             Address  \\\n",
       "0  Anderson Lake Conservation Area - Fulton County  Anderson Lake C.a.   \n",
       "1  Anderson Lake Conservation Area - Fulton County  Anderson Lake C.a.   \n",
       "2  Anderson Lake Conservation Area - Fulton County  Anderson Lake C.a.   \n",
       "3  Anderson Lake Conservation Area - Fulton County  Anderson Lake C.a.   \n",
       "4  Anderson Lake Conservation Area - Fulton County  Anderson Lake C.a.   \n",
       "\n",
       "      City  Zip code  County  Congress Dist Congressional Full Name  Rep Dist  \\\n",
       "0  Astoria     61501  Fulton             17            Cheri Bustos        93   \n",
       "1  Astoria     61501  Fulton             17            Cheri Bustos        93   \n",
       "2  Astoria     61501  Fulton             17            Cheri Bustos        93   \n",
       "3  Astoria     61501  Fulton             17            Cheri Bustos        93   \n",
       "4  Astoria     61501  Fulton             17            Cheri Bustos        93   \n",
       "\n",
       "       Rep Full Name  ...  Bldg Status Year Acquired Year Constructed  \\\n",
       "0  Hammond Norine K.  ...       In Use          1975             1975   \n",
       "1  Hammond Norine K.  ...       In Use          2004             2004   \n",
       "2  Hammond Norine K.  ...       In Use          2004             2004   \n",
       "3  Hammond Norine K.  ...       In Use          2004             2004   \n",
       "4  Hammond Norine K.  ...       In Use          2004             2004   \n",
       "\n",
       "   Square Footage  Total Floors  Floors Above Grade  Floors Below Grade  \\\n",
       "0             144             1                   1                   0   \n",
       "1             144             1                   1                   0   \n",
       "2             144             1                   1                   0   \n",
       "3             144             1                   1                   0   \n",
       "4             144             1                   1                   0   \n",
       "\n",
       "   Usage Description  Usage Description 2 Usage Description 3  \n",
       "0            Unusual              Unusual        Not provided  \n",
       "1            Unusual              Unusual        Not provided  \n",
       "2            Unusual              Unusual        Not provided  \n",
       "3            Unusual              Unusual        Not provided  \n",
       "4            Unusual              Unusual        Not provided  \n",
       "\n",
       "[5 rows x 22 columns]"
      ]
     },
     "execution_count": 24,
     "metadata": {},
     "output_type": "execute_result"
    }
   ],
   "source": [
    "building=pd.read_csv(\"https://uiuc-ischool-dataviz.github.io/is445_AOUAOG_fall2021/week02/data/building_inventory.csv\")\n",
    "building.head()"
   ]
  },
  {
   "cell_type": "code",
   "execution_count": 25,
   "metadata": {
    "scrolled": true
   },
   "outputs": [
    {
     "data": {
      "text/plain": [
       "Agency Name                  0\n",
       "Location Name                0\n",
       "Address                     51\n",
       "City                         0\n",
       "Zip code                     0\n",
       "County                      25\n",
       "Congress Dist                0\n",
       "Congressional Full Name    163\n",
       "Rep Dist                     0\n",
       "Rep Full Name               23\n",
       "Senate Dist                  0\n",
       "Senator Full Name           23\n",
       "Bldg Status                  0\n",
       "Year Acquired                0\n",
       "Year Constructed             0\n",
       "Square Footage               0\n",
       "Total Floors                 0\n",
       "Floors Above Grade           0\n",
       "Floors Below Grade           0\n",
       "Usage Description            0\n",
       "Usage Description 2         30\n",
       "Usage Description 3         88\n",
       "dtype: int64"
      ]
     },
     "execution_count": 25,
     "metadata": {},
     "output_type": "execute_result"
    }
   ],
   "source": [
    "building.isna().sum()"
   ]
  },
  {
   "cell_type": "code",
   "execution_count": 26,
   "metadata": {},
   "outputs": [],
   "source": [
    "building=building.dropna()"
   ]
  },
  {
   "cell_type": "code",
   "execution_count": 27,
   "metadata": {},
   "outputs": [
    {
     "data": {
      "text/plain": [
       "Agency Name                0\n",
       "Location Name              0\n",
       "Address                    0\n",
       "City                       0\n",
       "Zip code                   0\n",
       "County                     0\n",
       "Congress Dist              0\n",
       "Congressional Full Name    0\n",
       "Rep Dist                   0\n",
       "Rep Full Name              0\n",
       "Senate Dist                0\n",
       "Senator Full Name          0\n",
       "Bldg Status                0\n",
       "Year Acquired              0\n",
       "Year Constructed           0\n",
       "Square Footage             0\n",
       "Total Floors               0\n",
       "Floors Above Grade         0\n",
       "Floors Below Grade         0\n",
       "Usage Description          0\n",
       "Usage Description 2        0\n",
       "Usage Description 3        0\n",
       "dtype: int64"
      ]
     },
     "execution_count": 27,
     "metadata": {},
     "output_type": "execute_result"
    }
   ],
   "source": [
    "building.isna().sum()"
   ]
  },
  {
   "cell_type": "code",
   "execution_count": 28,
   "metadata": {},
   "outputs": [
    {
     "data": {
      "text/plain": [
       "(7921, 22)"
      ]
     },
     "execution_count": 28,
     "metadata": {},
     "output_type": "execute_result"
    }
   ],
   "source": [
    "building=building.head(7921)\n",
    "building.shape"
   ]
  },
  {
   "cell_type": "markdown",
   "metadata": {},
   "source": [
    "# On the left- Grid Heat Map"
   ]
  },
  {
   "cell_type": "code",
   "execution_count": 29,
   "metadata": {},
   "outputs": [],
   "source": [
    "#Data\n",
    "County=np.array(building['County'])#Columns\n",
    "Agency=np.array(building['Agency Name'])#Rows\n",
    "Year=np.array(building['Year Acquired'])\n",
    "Sqr_Foot=np.array(building.head(6859)['Square Footage']).reshape(19,19,19)#Vlaues "
   ]
  },
  {
   "cell_type": "code",
   "execution_count": 30,
   "metadata": {},
   "outputs": [],
   "source": [
    "Agency=Agency[7902:]\n",
    "County=County[7902:]"
   ]
  },
  {
   "cell_type": "markdown",
   "metadata": {},
   "source": [
    "### 1. Grid Heat-Map (Left)"
   ]
  },
  {
   "cell_type": "code",
   "execution_count": 31,
   "metadata": {},
   "outputs": [
    {
     "data": {
      "text/plain": [
       "array([ 950,  950,  575,   64, 1080,  560,  560,  144,  144,  144,  144,\n",
       "        144,  144,  144,  144,  144,  144,  144,  100])"
      ]
     },
     "execution_count": 31,
     "metadata": {},
     "output_type": "execute_result"
    }
   ],
   "source": [
    "data=Sqr_Foot\n",
    "i,j=1,1\n",
    "data[i,j,:]"
   ]
  },
  {
   "cell_type": "code",
   "execution_count": 43,
   "metadata": {},
   "outputs": [],
   "source": [
    "# heatmap\n",
    "#Scales\n",
    "col_sc=bqplot.ColorScale(scheme='Reds')\n",
    "x_sc=bqplot.OrdinalScale()\n",
    "y_sc=bqplot.OrdinalScale()\n",
    "#Axis\n",
    "ax_col=bqplot.ColorAxis(scale=col_sc,orientation='vertical',side='left')\n",
    "ax_x=bqplot.Axis(scale=x_sc)\n",
    "ax_y=bqplot.Axis(scale=y_sc,orientation='vertical')"
   ]
  },
  {
   "cell_type": "code",
   "execution_count": 42,
   "metadata": {},
   "outputs": [
    {
     "data": {
      "text/plain": [
       "GridHeatMap(anchor_style={'fill': 'blue'}, color=array([[2.04894737e+02, 1.42711579e+04, 2.70789474e+02, 8.57778947e+03,\n",
       "        1.55385789e+04, 6.72563158e+03, 4.55000000e+02, 9.89321053e+03,\n",
       "        3.84236842e+03, 2.58552632e+03, 4.07578947e+02, 1.30157895e+03,\n",
       "        3.99273684e+03, 1.06305263e+03, 1.25910526e+03, 1.64152632e+03,\n",
       "        1.73052632e+02, 9.19763158e+03, 1.09514737e+04],\n",
       "       [5.83331579e+03, 3.38052632e+02, 2.80337368e+04, 1.59842105e+03,\n",
       "        2.02984211e+03, 3.63842105e+02, 3.85368421e+02, 9.67578947e+02,\n",
       "        7.17010526e+03, 5.58742105e+03, 9.93563158e+03, 1.67896316e+04,\n",
       "        7.77278947e+03, 3.86052632e+02, 3.11036842e+03, 2.01752632e+03,\n",
       "        2.12947368e+02, 2.01852632e+03, 3.43226316e+03],\n",
       "       [3.82036842e+03, 6.81673684e+03, 1.76894737e+02, 8.11110526e+03,\n",
       "        1.26136842e+03, 1.37846842e+04, 6.68894737e+02, 7.50000000e+01,\n",
       "        7.50000000e+01, 2.79605263e+03, 4.34631579e+03, 5.37894737e+02,\n",
       "        7.50000000e+01, 7.50000000e+01, 3.39789474e+02, 2.03842105e+02,\n",
       "        1.12978947e+03, 1.85232105e+04, 7.89168421e+03],\n",
       "       [4.36100000e+03, 1.28412105e+04, 5.01642105e+03, 6.29147368e+03,\n",
       "        1.87852632e+03, 1.34215789e+03, 2.47332632e+04, 9.56505263e+03,\n",
       "        8.59105263e+02, 1.35715789e+03, 1.22442105e+03, 2.28689474e+03,\n",
       "        1.01452632e+03, 1.28368421e+03, 7.72631579e+02, 1.15105263e+03,\n",
       "        3.57368421e+02, 8.63631579e+02, 3.42000000e+02],\n",
       "       [7.83105263e+02, 9.74315789e+02, 6.98947368e+02, 1.44405263e+03,\n",
       "        6.74336842e+03, 6.32105263e+02, 5.44000000e+02, 1.78947368e+02,\n",
       "        4.84210526e+01, 1.21263158e+03, 9.27473684e+02, 5.82894737e+02,\n",
       "        9.84526316e+02, 5.31421053e+02, 3.69105263e+02, 4.94794737e+03,\n",
       "        2.26157895e+02, 8.47947368e+02, 5.14642105e+03],\n",
       "       [1.14221053e+03, 7.53631579e+02, 1.19368421e+03, 4.11415789e+03,\n",
       "        2.00542105e+03, 9.38157895e+02, 5.15157895e+02, 1.11147368e+03,\n",
       "        8.77894737e+02, 2.00105263e+02, 9.87473684e+02, 4.14842105e+02,\n",
       "        2.26947368e+02, 1.45421053e+02, 3.37263158e+03, 1.58442105e+03,\n",
       "        4.26989474e+03, 7.33894737e+02, 6.67105263e+02],\n",
       "       [1.16136842e+03, 9.53421053e+02, 3.68210526e+02, 3.44673684e+03,\n",
       "        1.31363684e+04, 2.21012105e+04, 3.64190000e+04, 4.01862105e+04,\n",
       "        2.89422632e+04, 4.50210526e+02, 4.91973684e+03, 3.53568421e+03,\n",
       "        1.00778947e+03, 2.74521053e+03, 1.58747368e+03, 1.25026316e+03,\n",
       "        3.50878947e+03, 4.61052632e+02, 1.77200000e+03],\n",
       "       [9.61736842e+02, 1.22268421e+03, 1.93757895e+03, 3.30900000e+03,\n",
       "        2.05800000e+03, 3.42736842e+02, 1.03921053e+03, 2.52842105e+03,\n",
       "        3.43115789e+03, 3.69315789e+03, 8.14736842e+02, 1.59542105e+03,\n",
       "        2.55263158e+02, 6.58842105e+02, 4.61473684e+02, 7.75947368e+02,\n",
       "        1.01726316e+03, 7.55736842e+02, 8.84894737e+02],\n",
       "       [7.19578947e+02, 1.05305263e+03, 2.13668421e+03, 7.85052632e+02,\n",
       "        1.45568421e+03, 1.39489474e+03, 7.25578947e+02, 3.58684211e+02,\n",
       "        1.44463158e+03, 1.04605263e+03, 4.92105263e+02, 8.93210526e+02,\n",
       "        1.61431579e+03, 3.86842105e+02, 1.23794737e+03, 1.57273684e+03,\n",
       "        8.53684211e+02, 4.14842105e+02, 3.26894737e+02],\n",
       "       [1.04284211e+03, 4.31842105e+02, 3.05894737e+02, 6.98315789e+02,\n",
       "        1.56000000e+02, 3.38736842e+02, 2.90847368e+03, 3.94694737e+03,\n",
       "        3.87578947e+02, 1.61263158e+02, 2.73631579e+02, 2.28736842e+02,\n",
       "        6.79421053e+02, 1.14252632e+03, 1.02647368e+03, 2.18894737e+02,\n",
       "        4.07947368e+02, 4.12947368e+02, 4.83210526e+02],\n",
       "       [1.86168421e+03, 2.01047368e+03, 2.74578947e+03, 1.58957895e+03,\n",
       "        1.08431579e+03, 8.11315789e+02, 1.52731053e+04, 6.78294737e+03,\n",
       "        3.79894737e+03, 2.95368421e+03, 2.95000000e+03, 8.55663158e+03,\n",
       "        1.29598421e+04, 2.65470000e+04, 1.45824737e+04, 1.22831579e+04,\n",
       "        7.11573684e+03, 8.17252632e+03, 6.28763158e+03],\n",
       "       [1.89007368e+04, 1.95159474e+04, 3.63961053e+04, 1.58770526e+04,\n",
       "        3.22671579e+04, 2.67811053e+04, 4.80131579e+03, 2.90900000e+03,\n",
       "        6.82547368e+03, 1.50740000e+04, 2.08143684e+04, 2.14930526e+04,\n",
       "        3.76475789e+04, 2.42224211e+04, 2.08516842e+04, 8.23142105e+03,\n",
       "        2.13610526e+04, 2.16308421e+04, 1.31084211e+04],\n",
       "       [1.32325789e+04, 1.10386316e+04, 1.57961579e+04, 2.16848947e+04,\n",
       "        5.40794737e+03, 8.84852632e+03, 1.00446316e+04, 1.47174737e+04,\n",
       "        1.85893684e+04, 7.97489474e+03, 3.07661053e+04, 2.84317368e+04,\n",
       "        5.71747368e+03, 3.28294737e+03, 3.02331579e+03, 4.98236842e+03,\n",
       "        1.91674211e+04, 1.38586316e+04, 3.22868421e+03],\n",
       "       [8.34431579e+03, 1.15773684e+04, 4.00873684e+03, 1.05674737e+04,\n",
       "        4.61200000e+03, 2.86884211e+03, 1.94368421e+03, 5.44094737e+03,\n",
       "        3.05731579e+03, 9.03305263e+03, 1.77692105e+04, 1.87754211e+04,\n",
       "        2.92515789e+03, 2.02042105e+03, 1.01911053e+04, 2.48536842e+03,\n",
       "        2.50342105e+03, 5.01989474e+03, 8.92905263e+03],\n",
       "       [7.36268421e+03, 1.38245789e+04, 5.12642105e+03, 5.79015789e+03,\n",
       "        1.87551053e+04, 1.08703684e+04, 1.02210000e+04, 1.12175789e+04,\n",
       "        2.05336842e+03, 1.30525263e+04, 5.12873684e+03, 2.10912105e+04,\n",
       "        1.14684737e+04, 1.24982105e+04, 4.17847368e+03, 9.96315789e+03,\n",
       "        4.05357895e+03, 2.12976316e+04, 1.89344211e+04],\n",
       "       [5.63847368e+03, 2.05173158e+04, 5.09373684e+03, 7.61547368e+03,\n",
       "        9.77721053e+03, 1.49328947e+04, 7.78384211e+03, 1.23797895e+04,\n",
       "        1.17115263e+04, 1.27701579e+04, 1.84347368e+04, 1.99743684e+04,\n",
       "        1.01263684e+04, 1.46567368e+04, 3.29292105e+04, 8.58857895e+03,\n",
       "        1.88631579e+03, 5.23657895e+03, 5.92310526e+03],\n",
       "       [6.90952632e+03, 3.87115789e+03, 9.79010526e+03, 4.23773684e+03,\n",
       "        4.44878947e+03, 3.71647368e+03, 7.16942105e+03, 5.94252632e+03,\n",
       "        4.48368421e+03, 2.98094737e+03, 3.93236842e+03, 6.05842105e+03,\n",
       "        4.69052632e+03, 7.96500000e+03, 6.91721053e+03, 4.41847368e+03,\n",
       "        4.10042105e+03, 2.33567895e+04, 5.57021053e+03],\n",
       "       [3.97278947e+03, 4.21631579e+03, 6.57584211e+03, 5.85421053e+03,\n",
       "        3.85268421e+03, 3.05384211e+03, 4.48794737e+03, 3.94963158e+03,\n",
       "        5.53547368e+03, 9.47057895e+03, 3.75636842e+03, 2.76484211e+03,\n",
       "        3.08747368e+03, 5.52905263e+03, 8.32331579e+03, 4.04021053e+03,\n",
       "        2.71863158e+03, 1.63206842e+04, 1.02070526e+04],\n",
       "       [2.42738947e+04, 5.83331579e+03, 9.33826316e+03, 1.68251579e+04,\n",
       "        2.99515789e+03, 8.16405263e+03, 1.96800000e+03, 2.23057895e+03,\n",
       "        9.00505263e+03, 5.23253158e+04, 1.71973158e+04, 1.73587368e+04,\n",
       "        2.18143158e+04, 2.01708947e+04, 1.08052105e+04, 7.29352632e+03,\n",
       "        6.39915789e+03, 5.32968421e+03, 1.00119263e+05]]), interactions={'click': 'select'}, scales={'color': ColorScale(scheme='Reds'), 'row': OrdinalScale(), 'column': OrdinalScale()}, scales_metadata={'row': {'orientation': 'vertical', 'dimension': 'y'}, 'column': {'orientation': 'horizontal', 'dimension': 'x'}, 'color': {'dimension': 'color'}}, tooltip_style={'opacity': 0.9})"
      ]
     },
     "metadata": {},
     "output_type": "display_data"
    }
   ],
   "source": [
    "grid_map=bqplot.GridHeatMap(color=data.mean(axis=2),\n",
    "                     scales={'color': col_sc, 'row':y_sc,'column': x_sc},\n",
    "                     interactions={'click':'select'},\n",
    "                     anchor_style={'fill':'blue'})\n",
    "display(grid_map)"
   ]
  },
  {
   "cell_type": "code",
   "execution_count": 34,
   "metadata": {},
   "outputs": [
    {
     "data": {
      "application/vnd.jupyter.widget-view+json": {
       "model_id": "c19af819759f4cd98f94e191dc56a255",
       "version_major": 2,
       "version_minor": 0
      },
      "text/plain": [
       "Figure(axes=[ColorAxis(orientation='vertical', scale=ColorScale(scheme='Reds'), side='left'), Axis(scale=Ordin…"
      ]
     },
     "metadata": {},
     "output_type": "display_data"
    }
   ],
   "source": [
    "bqplot.Figure(marks=[grid_map],axes=[ax_col,ax_x,ax_y])"
   ]
  },
  {
   "cell_type": "code",
   "execution_count": 35,
   "metadata": {},
   "outputs": [],
   "source": [
    "grid_map.display_format = '.1f'"
   ]
  },
  {
   "cell_type": "markdown",
   "metadata": {},
   "source": [
    "### 2.On the Right- barplot/Histogram"
   ]
  },
  {
   "cell_type": "code",
   "execution_count": 36,
   "metadata": {},
   "outputs": [
    {
     "data": {
      "application/vnd.jupyter.widget-view+json": {
       "model_id": "69ce56ebec9e4a87bc50eef5b4885df6",
       "version_major": 2,
       "version_minor": 0
      },
      "text/plain": [
       "Figure(axes=[Axis(scale=LinearScale()), Axis(label='Frequency', orientation='vertical', scale=LinearScale())],…"
      ]
     },
     "metadata": {},
     "output_type": "display_data"
    }
   ],
   "source": [
    "#Histogram\n",
    "#Scales\n",
    "x_sch=bqplot.LinearScale()\n",
    "y_sch=bqplot.LinearScale()\n",
    "#Axis\n",
    "x_axh=bqplot.Axis(scale=x_sch,Label='Value of third Axis')\n",
    "y_axh=bqplot.Axis(scale=y_sch,orientation='vertical',label='Frequency')\n",
    "#Marking\n",
    "hist=bqplot.Hist(sample=data[i,j,:],\n",
    "                scales={'sample':x_sch,'count':y_sch},bin=5)\n",
    "figh=bqplot.Figure(marks=[hist],axes=[x_axh,y_axh])\n",
    "figh"
   ]
  },
  {
   "cell_type": "markdown",
   "metadata": {},
   "source": [
    "### 3. Linking Histogram and Heat Grid-Map to form a Dashboard"
   ]
  },
  {
   "cell_type": "code",
   "execution_count": 37,
   "metadata": {},
   "outputs": [],
   "source": [
    "mySelectedLabel=ipywidgets.Label()\n",
    "mySelectedLabel.value='Mean selected Square Footage here'"
   ]
  },
  {
   "cell_type": "code",
   "execution_count": 38,
   "metadata": {},
   "outputs": [],
   "source": [
    "def on_selected(change):\n",
    "    if len(change['owner'].selected)==1:\n",
    "        i,j=change['owner'].selected[0]\n",
    "        v=data[i,j,:].mean()\n",
    "        mySelectedLabel.value='Mean Square Footage of the building='+str(v)\n",
    "        hist.sample=data[i,j,:]\n",
    "grid_map.observe(on_selected,'selected')"
   ]
  },
  {
   "cell_type": "code",
   "execution_count": 39,
   "metadata": {},
   "outputs": [],
   "source": [
    "fig=bqplot.Figure(marks=[grid_map],axes=[ax_col,ax_x,ax_y])\n",
    "grid_map.display_format = '.1f'"
   ]
  },
  {
   "cell_type": "code",
   "execution_count": 40,
   "metadata": {},
   "outputs": [
    {
     "data": {
      "application/vnd.jupyter.widget-view+json": {
       "model_id": "6bd0349df7b440c2ba2d72f1e3828faa",
       "version_major": 2,
       "version_minor": 0
      },
      "text/plain": [
       "VBox(children=(Label(value='Mean selected Square Footage here'), HBox(children=(Figure(axes=[ColorAxis(orienta…"
      ]
     },
     "metadata": {},
     "output_type": "display_data"
    }
   ],
   "source": [
    "fig.layout.min_width='500px'\n",
    "figh.layout.min_width='500px'\n",
    "figures=ipywidgets.HBox([fig,figh])\n",
    "Db=ipywidgets.VBox([mySelectedLabel,figures])\n",
    "Db"
   ]
  },
  {
   "cell_type": "markdown",
   "metadata": {},
   "source": [
    "# Writeup"
   ]
  },
  {
   "cell_type": "markdown",
   "metadata": {},
   "source": [
    "There was many cases of missing observations/instances. Handling the missing data involved omitting the instances of the missing observation by applying the python function dropan() to drop the rows with the missing observations. Moreover, I checked the dimension of the data, the features of the data, and normalizing the numerical values. Then, I was selecting the variables of interest and developing NumPy arrays using the variables. The variables of interest include the county, the agency name, the year acquired, and the square footage. \n",
    "\n",
    "For the Grid Heat map, The code uses the ordinal scale function of the bqplot because the variables are categorical (agency name). The grid heat map represents the square footage of the buildings across the government departments (agencies), and counties. \n",
    "\n",
    "The histogram outlines the mean square footage of the building across the years of acquiring the building. The square footage is a numerical quantity that requires the linear scale function of the bqplot. In addition, the histogram was set to normalize the values of the square footage (Normalize=True). After normalizing, the histogram portrays that the values follow a normal distribution with a bell-shaped bar. The histogram has 20 bins, with orange color. The label color run from white to red, and the cell I selected is blue. I also use \".1f\" to keep one decimal point for the data. Last, I set the minimum width of two figures are 500px.\n",
    "\n",
    "The final step involves linking the histogram and the grid heatmap into a dashboard. The figure below outlines an overview of the dashboard. The common variable is the mean square footage of the buildings. If I had more time, I would like to add a concise statistics to the cell selected by the user."
   ]
  },
  {
   "cell_type": "code",
   "execution_count": null,
   "metadata": {},
   "outputs": [],
   "source": []
  }
 ],
 "metadata": {
  "kernelspec": {
   "display_name": "Python 3 (ipykernel)",
   "language": "python",
   "name": "python3"
  },
  "language_info": {
   "codemirror_mode": {
    "name": "ipython",
    "version": 3
   },
   "file_extension": ".py",
   "mimetype": "text/x-python",
   "name": "python",
   "nbconvert_exporter": "python",
   "pygments_lexer": "ipython3",
   "version": "3.7.10"
  }
 },
 "nbformat": 4,
 "nbformat_minor": 2
}
